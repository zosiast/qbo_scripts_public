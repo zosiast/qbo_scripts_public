{
 "cells": [
  {
   "cell_type": "markdown",
   "id": "8f45018f-1a5d-47e1-893b-0f91f9045f82",
   "metadata": {},
   "source": [
    "# Biomass burning emissions files perturb and save\n",
    "Import emissions and calculate monthly sum and average over 2005-2015. Save as new emissions files in loop"
   ]
  },
  {
   "cell_type": "code",
   "execution_count": 1,
   "id": "0a23203b-1453-40a5-b214-b0b91d9a8704",
   "metadata": {},
   "outputs": [
    {
     "name": "stderr",
     "output_type": "stream",
     "text": [
      "ERROR 1: PROJ: proj_create_from_database: Cannot find proj.db\n"
     ]
    }
   ],
   "source": [
    "import numpy as np\n",
    "import xarray as xr\n",
    "import glob\n",
    "import nc_time_axis\n",
    "from datetime import datetime"
   ]
  },
  {
   "cell_type": "code",
   "execution_count": 2,
   "id": "b15251a3",
   "metadata": {},
   "outputs": [],
   "source": [
    "#make (today's) date label for filename\n",
    "datelabel = datetime.today().strftime('%Y%m%d')"
   ]
  },
  {
   "cell_type": "code",
   "execution_count": 3,
   "id": "9b45c9c7-5125-4d8e-9fbd-618d218946b7",
   "metadata": {},
   "outputs": [],
   "source": [
    "#define file locations\n",
    "file_loc1 = '/div/no-backup/users/zofias/CMIP6_bb_ems/' #infile path\n",
    "out_file = '/div/nac/users/zofias/inputdata/crices_bb_ems/' #path for saving netcdfs\n",
    "\n",
    "#resolution label\n",
    "reslab = '0.9x1.25'"
   ]
  },
  {
   "cell_type": "markdown",
   "id": "f35f09de",
   "metadata": {},
   "source": [
    "#### Select files"
   ]
  },
  {
   "cell_type": "code",
   "execution_count": 4,
   "id": "c761ec30",
   "metadata": {},
   "outputs": [
    {
     "data": {
      "text/plain": [
       "['/div/no-backup/users/zofias/CMIP6_bb_ems/emissions-cmip6_CO_bb_surface_1750-2015_0.9x1.25_c20170322.nc',\n",
       " '/div/no-backup/users/zofias/CMIP6_bb_ems/emissions-cmip6_DMS_bb_surface_1750-2015_0.9x1.25_c20170322.nc',\n",
       " '/div/no-backup/users/zofias/CMIP6_bb_ems/emissions-cmip6_SO2_bb_surface_1750-2015_0.9x1.25_c20170322.nc',\n",
       " '/div/no-backup/users/zofias/CMIP6_bb_ems/emissions-cmip6_SOAGx1.5_bb_surface_1750-2015_0.9x1.25_c20170322.nc',\n",
       " '/div/no-backup/users/zofias/CMIP6_bb_ems/emissions-cmip6_bc_a4_bb_surface_1750-2015_0.9x1.25_c20170322.nc',\n",
       " '/div/no-backup/users/zofias/CMIP6_bb_ems/emissions-cmip6_num_bc_a4_bb_surface_1750-2015_0.9x1.25_c20170322.nc',\n",
       " '/div/no-backup/users/zofias/CMIP6_bb_ems/emissions-cmip6_num_pom_a4_bb_surface_1750-2015_0.9x1.25_c20170509.nc',\n",
       " '/div/no-backup/users/zofias/CMIP6_bb_ems/emissions-cmip6_num_so4_a1_bb_surface_1750-2015_0.9x1.25_c20170322.nc',\n",
       " '/div/no-backup/users/zofias/CMIP6_bb_ems/emissions-cmip6_pom_a4_bb_surface_1750-2015_0.9x1.25_c20170322.nc',\n",
       " '/div/no-backup/users/zofias/CMIP6_bb_ems/emissions-cmip6_so4_a1_bb_surface_1750-2015_0.9x1.25_c20170322.nc']"
      ]
     },
     "execution_count": 4,
     "metadata": {},
     "output_type": "execute_result"
    }
   ],
   "source": [
    "bb_files = sorted(glob.glob(f'{file_loc1}*.nc'))\n",
    "# check filelist\n",
    "bb_files"
   ]
  },
  {
   "cell_type": "code",
   "execution_count": 5,
   "id": "dbd5f0ba",
   "metadata": {},
   "outputs": [
    {
     "name": "stdout",
     "output_type": "stream",
     "text": [
      "emissions-cmip6_CO_bb_surface\n",
      "emissions-cmip6_DMS_bb_surface\n",
      "emissions-cmip6_SO2_bb_surface\n",
      "emissions-cmip6_SOAGx1.5_bb_surface\n",
      "emissions-cmip6_bc_a4_bb_surface\n",
      "emissions-cmip6_num_bc_a4_bb_surface\n",
      "emissions-cmip6_num_pom_a4_bb_surface\n",
      "emissions-cmip6_num_so4_a1_bb_surface\n",
      "emissions-cmip6_pom_a4_bb_surface\n",
      "emissions-cmip6_so4_a1_bb_surface\n"
     ]
    }
   ],
   "source": [
    "# check filename label and adjust if incorrect\n",
    "# should be e.g. emissions-cmip6_CO_bb_surface\n",
    "for file in bb_files:\n",
    "    filelab = file.split('/')[-1][:-32]\n",
    "    print(filelab)"
   ]
  },
  {
   "cell_type": "markdown",
   "id": "6919dfaa",
   "metadata": {},
   "source": [
    "### Make mean and AllBoreal files"
   ]
  },
  {
   "cell_type": "code",
   "execution_count": 16,
   "id": "d2c42655",
   "metadata": {},
   "outputs": [],
   "source": [
    "for file in bb_files:\n",
    "    filelab = file.split('/')[-1][:-32]\n",
    "\n",
    "    #open file and select years 2005-2014\n",
    "    bb_ems_all = xr.open_dataset(file).sel(time=slice('2005-01-01','2015-01-01'))\n",
    "\n",
    "    #all vars in dataset\n",
    "    vars = list(bb_ems_all.keys())\n",
    "    #var label (second variable in dataset)\n",
    "    ems_var = vars[1]\n",
    "\n",
    "    # #select 2010 dates to use in netcdf\n",
    "    ems_bb_2010 = bb_ems_all.sel(time=slice('2010-01-01','2010-12-30'))\n",
    "\n",
    "    #Find lat and lon indices\n",
    "    #where 50N, 60N latitude index is\n",
    "    lat_ind_50 = np.where(bb_ems_all.lat>=50)[0][0] \n",
    "\n",
    "    #calculate sum and average emissions for 2005 - 2015\n",
    "    emiss_calcs = xr.Dataset() \n",
    "    emiss_calcs['bb_average'] = bb_ems_all[ems_var].groupby('time.month').mean(dim='time',keep_attrs=True)\n",
    "    emiss_calcs['bb_sum'] = bb_ems_all[ems_var].groupby('time.month').sum(dim='time',keep_attrs=True)\n",
    "\n",
    "    #perturbation file, sum over >50N\n",
    "    emiss_calcs['bb_ems_pert'] = emiss_calcs['bb_average'].copy()\n",
    "    emiss_calcs['bb_ems_pert'][:,lat_ind_50:,:] = emiss_calcs['bb_sum'][:,lat_ind_50:,:].values\n",
    "\n",
    "    #correct time coordinates\n",
    "    emiss_calcs = emiss_calcs.rename({'month':'time'})\n",
    "    emiss_calcs = emiss_calcs.assign_coords({'time':ems_bb_2010.time})\n",
    "\n",
    "    #make copies of dataset for 2010 only to get times and dates correct\n",
    "    ds_bb_mean = ems_bb_2010.copy(deep=True)\n",
    "    ds_bb_pert = ems_bb_2010.copy(deep=True)\n",
    "\n",
    "    #make perturbation file base on mean baseline\n",
    "    ds_bb_mean[ems_var] = emiss_calcs['bb_average']\n",
    "    ds_bb_pert[ems_var] = emiss_calcs['bb_ems_pert']\n",
    "\n",
    "    #save to netcdf\n",
    "    #ds_bb_mean.to_netcdf(f'{out_file}{filelab}_2010_{reslab}_mean_{datelabel}.nc')\n",
    "    ds_bb_pert.to_netcdf(f'{out_file}{filelab}_2010_{reslab}_AllBoreal_{datelabel}.nc')"
   ]
  },
  {
   "cell_type": "markdown",
   "id": "1d83e0bd",
   "metadata": {},
   "source": [
    "## Smaller regional perturbations"
   ]
  },
  {
   "cell_type": "code",
   "execution_count": 8,
   "id": "6eabf05c",
   "metadata": {},
   "outputs": [],
   "source": [
    "#define regions\n",
    "#***** change region here to make different files ****\n",
    "region_label = 'WestBOAS' #'EastBOAS' # 'EastBONA'\n",
    "\n",
    "regions = {'EastBOAS' : [94,191],\n",
    "           'WestBOAS' : [50,94],\n",
    "           'EastBONA' : [224,336]}"
   ]
  },
  {
   "cell_type": "code",
   "execution_count": 9,
   "id": "304d29f8",
   "metadata": {},
   "outputs": [],
   "source": [
    "for file in bb_files:\n",
    "    filelab = file.split('/')[-1][:-32]\n",
    "\n",
    "    #open file and select years 2005-2014\n",
    "    bb_ems_all = xr.open_dataset(file).sel(time=slice('2005-01-01','2015-01-01'))\n",
    "\n",
    "    #all vars in dataset\n",
    "    vars = list(bb_ems_all.keys())\n",
    "    #var label (second variable in dataset)\n",
    "    ems_var = vars[1]\n",
    "\n",
    "    # #select 2010 dates to use in netcdf\n",
    "    ems_bb_2010 = bb_ems_all.sel(time=slice('2010-01-01','2010-12-30'))\n",
    "\n",
    "    #Find lat and lon indices\n",
    "    #where 50N latitude index is\n",
    "    lat_ind_50 = np.where(bb_ems_all.lat>=50)[0][0] \n",
    "\n",
    "    #selects lat lon bounds for region\n",
    "    lon_min, lon_max = regions[region_label]\n",
    "    lon_min_ind, lon_max_ind = [np.where(bb_ems_all.lon>=lon_min)[0][0], np.where(bb_ems_all.lon>=lon_max)[0][0]]\n",
    "\n",
    "    #calculate sum and average emissions for 2005 - 2014\n",
    "    emiss_calcs = xr.Dataset() \n",
    "    emiss_calcs['bb_average'] = bb_ems_all[ems_var].groupby('time.month').mean(dim='time',keep_attrs=True)\n",
    "    emiss_calcs['bb_sum'] = bb_ems_all[ems_var].groupby('time.month').sum(dim='time',keep_attrs=True)\n",
    "\n",
    "    #perturbation file, sum over >50N\n",
    "    emiss_calcs['bb_ems_pert'] = emiss_calcs['bb_average'].copy()\n",
    "    emiss_calcs['bb_ems_pert'][:,lat_ind_50:,lon_min_ind:lon_max_ind] = emiss_calcs['bb_sum'][:,lat_ind_50:,lon_min_ind:lon_max_ind].values\n",
    "\n",
    "    #correct time coordinates\n",
    "    emiss_calcs = emiss_calcs.rename({'month':'time'})\n",
    "    emiss_calcs = emiss_calcs.assign_coords({'time':ems_bb_2010.time})\n",
    "\n",
    "    #make copies of dataset for 2010 only to get times and dates correct\n",
    "    ds_bb_mean = ems_bb_2010.copy(deep=True)\n",
    "    ds_bb_pert = ems_bb_2010.copy(deep=True)\n",
    "\n",
    "    #make perturbation file base on mean baseline\n",
    "    ds_bb_mean[ems_var] = emiss_calcs['bb_average']\n",
    "    ds_bb_pert[ems_var] = emiss_calcs['bb_ems_pert']\n",
    "\n",
    "    #save to netcdf\n",
    "    #ds_bb_mean.to_netcdf(f'{out_file}{filelab}_2010_{reslab}_mean_{datelabel}.nc')\n",
    "    ds_bb_pert.to_netcdf(f'{out_file}{filelab}_2010_{reslab}_{region_label}_{datelabel}.nc')"
   ]
  }
 ],
 "metadata": {
  "kernelspec": {
   "display_name": "venv_basic",
   "language": "python",
   "name": "python3"
  },
  "language_info": {
   "codemirror_mode": {
    "name": "ipython",
    "version": 3
   },
   "file_extension": ".py",
   "mimetype": "text/x-python",
   "name": "python",
   "nbconvert_exporter": "python",
   "pygments_lexer": "ipython3",
   "version": "3.8.16"
  }
 },
 "nbformat": 4,
 "nbformat_minor": 5
}
